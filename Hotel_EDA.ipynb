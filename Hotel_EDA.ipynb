{
  "nbformat": 4,
  "nbformat_minor": 0,
  "metadata": {
    "colab": {
      "private_outputs": true,
      "provenance": []
    },
    "kernelspec": {
      "name": "python3",
      "display_name": "Python 3"
    },
    "language_info": {
      "name": "python"
    }
  },
  "cells": [
    {
      "cell_type": "code",
      "execution_count": null,
      "metadata": {
        "id": "ezPlq4zGCQdm"
      },
      "outputs": [],
      "source": [
        "import pandas as pd\n",
        "import matplotlib.pyplot as plt\n",
        "import seaborn as sns"
      ]
    },
    {
      "cell_type": "code",
      "source": [
        "df = pd.read_csv(\"first inten project.csv\")\n",
        "df"
      ],
      "metadata": {
        "id": "h9HcItyqCeqa"
      },
      "execution_count": null,
      "outputs": []
    },
    {
      "cell_type": "code",
      "source": [
        "\n",
        "\n",
        "# ========== Univariate ==========\n",
        "for col in [\"number of adults\",\"number of children\",\"number of weekend nights\",\n",
        "            \"number of week nights\",\"lead time\",\"average price \",\"special requests\"]:\n",
        "    plt.figure(figsize=(6,4))\n",
        "    sns.histplot(df[col], bins=30, kde=True)\n",
        "    plt.title(f\"Distribution of {col}\")\n",
        "    plt.show()"
      ],
      "metadata": {
        "id": "6CTYrjsjCjBF"
      },
      "execution_count": null,
      "outputs": []
    },
    {
      "cell_type": "code",
      "source": [
        "# ========== Booking Status ==========\n",
        "plt.figure(figsize=(6,4))\n",
        "df['booking status'].value_counts().plot(kind=\"bar\", color=[\"#66b3ff\",\"#ff9999\"])\n",
        "plt.title(\"Booking Status Counts\")\n",
        "plt.show()"
      ],
      "metadata": {
        "id": "oLfe-oeUDz08"
      },
      "execution_count": null,
      "outputs": []
    },
    {
      "cell_type": "code",
      "source": [
        "# Categorical columns vs booking status\n",
        "categorical_cols = [\"room type\",\"type of meal\",\"market segment type\",\"car parking space\",\"repeated\"]\n",
        "for col in categorical_cols:\n",
        "    plt.figure(figsize=(7,4))\n",
        "    sns.countplot(data=df, x=col, hue=\"booking status\", palette=\"Set2\")\n",
        "    plt.title(f\"{col} vs Booking Status\")\n",
        "    plt.xticks(rotation=30)\n",
        "    plt.show()"
      ],
      "metadata": {
        "id": "ukmTMEkiD48U"
      },
      "execution_count": null,
      "outputs": []
    },
    {
      "cell_type": "code",
      "source": [
        "\n",
        "\n",
        "# ========== Numerical vs Booking Status ==========\n",
        "num_cols = [\"lead time\",\"average price \",\"special requests\",\n",
        "            \"number of adults\",\"number of children\",\n",
        "            \"number of weekend nights\",\"number of week nights\"]\n",
        "\n",
        "for col in num_cols:\n",
        "    plt.figure(figsize=(6,4))\n",
        "    sns.boxplot(data=df, x=\"booking status\", y=col, palette=\"coolwarm\")\n",
        "    plt.title(f\"{col} by Booking Status\")\n",
        "    plt.show()"
      ],
      "metadata": {
        "id": "A2AWqkAzEBJB"
      },
      "execution_count": null,
      "outputs": []
    },
    {
      "cell_type": "code",
      "source": [
        "import matplotlib.pyplot as plt\n",
        "import seaborn as sns\n",
        "\n",
        "# الأعمدة الرقمية اللي عايزين نحللها\n",
        "num_cols = [\"lead time\",\"average price \",\"special requests\",\n",
        "            \"number of adults\",\"number of children\",\n",
        "            \"number of weekend nights\",\"number of week nights\"]\n",
        "\n",
        "# نرسم Histogram لكل عمود\n",
        "for col in num_cols:\n",
        "    plt.figure(figsize=(7,4))\n",
        "    sns.histplot(data=df, x=col, hue=\"booking status\", kde=True, bins=30, element=\"step\")\n",
        "    plt.title(f\"Distribution of {col} by Booking Status\")\n",
        "    plt.xlabel(col)\n",
        "    plt.ylabel(\"Count\")\n",
        "    plt.show()\n"
      ],
      "metadata": {
        "id": "-pu58-k1FKRw"
      },
      "execution_count": null,
      "outputs": []
    },
    {
      "cell_type": "code",
      "source": [
        "df['date of reservation'] = pd.to_datetime(df['date of reservation'], errors='coerce')\n",
        "time_data = df.groupby([df['date of reservation'].dt.to_period(\"M\"),\"booking status\"]).size().unstack()\n",
        "time_data.plot(kind=\"line\", figsize=(10,5))\n",
        "plt.title(\"Booking Status Trend Over Time\")\n",
        "plt.xlabel(\"Date\")\n",
        "plt.ylabel(\"Number of Bookings\")\n",
        "plt.show()"
      ],
      "metadata": {
        "id": "VWbtNc2hFhO8"
      },
      "execution_count": null,
      "outputs": []
    },
    {
      "cell_type": "code",
      "source": [
        "# ========== Multivariate ==========\n",
        "plt.figure(figsize=(8,6))\n",
        "sns.scatterplot(data=df, x=\"lead time\", y=\"average price \", hue=\"booking status\", alpha=0.5)\n",
        "plt.title(\"Lead Time vs Average Price by Booking Status\")\n",
        "plt.show()\n",
        "\n",
        "\n"
      ],
      "metadata": {
        "id": "GM7GgDZNGUx7"
      },
      "execution_count": null,
      "outputs": []
    },
    {
      "cell_type": "code",
      "source": [
        "\n",
        "\n",
        "\n",
        "\n",
        "\n",
        "\n",
        "\n",
        "plt.figure(figsize=(10,6))\n",
        "sns.heatmap(df.corr(numeric_only=True), annot=True, cmap=\"Blues\")\n",
        "plt.title(\"Correlation Heatmap\")\n",
        "plt.show()"
      ],
      "metadata": {
        "id": "O8EsCQ9xGbdy"
      },
      "execution_count": null,
      "outputs": []
    },
    {
      "cell_type": "code",
      "source": [
        "\n",
        "\n",
        "import seaborn as sns\n",
        "import matplotlib.pyplot as plt\n",
        "\n",
        "# اختيار الأعمدة الرقمية\n",
        "num_cols = df.select_dtypes(include=[\"int64\", \"float64\"]).columns\n",
        "\n",
        "# حساب الارتباط\n",
        "corr = df[num_cols].corr()\n",
        "\n",
        "# رسم Heatmap\n",
        "plt.figure(figsize=(10,6))\n",
        "sns.heatmap(corr, annot=True, cmap=\"coolwarm\", fmt=\".2f\")\n",
        "plt.title(\"Correlation Heatmap of Numerical Features\")\n",
        "plt.show()"
      ],
      "metadata": {
        "id": "7LAb6HazG3Sh"
      },
      "execution_count": null,
      "outputs": []
    },
    {
      "cell_type": "code",
      "source": [
        "pivot_table = df.pivot_table(\n",
        "    values=\"average price \",\n",
        "    index=\"type of meal\",\n",
        "    columns=\"booking status\",\n",
        "    aggfunc=\"mean\"\n",
        ")\n",
        "print(pivot_table)\n",
        "\n",
        "pivot_table.plot(kind=\"bar\", figsize=(8,5))\n",
        "plt.title(\"Average Price by Meal Type and Booking Status\")\n",
        "plt.ylabel(\"Average Price\")\n",
        "plt.show()"
      ],
      "metadata": {
        "id": "LD6qCRSQHF3p"
      },
      "execution_count": null,
      "outputs": []
    },
    {
      "cell_type": "code",
      "source": [
        "plt.figure(figsize=(8,5))\n",
        "sns.boxplot(data=df, x=\"booking status\", y=\"average price \")\n",
        "plt.title(\"Outliers in Price by Booking Status\")\n",
        "plt.show()"
      ],
      "metadata": {
        "id": "QEal0xo3HI81"
      },
      "execution_count": null,
      "outputs": []
    },
    {
      "cell_type": "code",
      "source": [
        "plt.figure(figsize=(6,4))\n",
        "sns.boxplot(data=df, x=\"booking status\", y=\"average price \", palette=\"coolwarm\")\n",
        "plt.title(\"Average Price vs Booking Status\")\n",
        "plt.show()"
      ],
      "metadata": {
        "id": "y0RFJVaqq2LO"
      },
      "execution_count": null,
      "outputs": []
    },
    {
      "cell_type": "code",
      "source": [
        "plt.figure(figsize=(6,4))\n",
        "sns.histplot(data=df, x=\"average price \", hue=\"booking status\", bins=30, kde=True, element=\"step\")\n",
        "plt.title(\"Distribution of Average Price by Booking Status\")\n",
        "plt.show()\n",
        "\n",
        "\n",
        "\n"
      ],
      "metadata": {
        "id": "-Q8uqtkoq6dG"
      },
      "execution_count": null,
      "outputs": []
    },
    {
      "cell_type": "code",
      "source": [],
      "metadata": {
        "id": "fh_11NPbq6qc"
      },
      "execution_count": null,
      "outputs": []
    }
  ]
}