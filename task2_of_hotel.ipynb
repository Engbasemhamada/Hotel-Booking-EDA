{
  "nbformat": 4,
  "nbformat_minor": 0,
  "metadata": {
    "colab": {
      "private_outputs": true,
      "provenance": [],
      "authorship_tag": "ABX9TyNgXZPebA/mAlJL8rePsvbu",
      "include_colab_link": true
    },
    "kernelspec": {
      "name": "python3",
      "display_name": "Python 3"
    },
    "language_info": {
      "name": "python"
    }
  },
  "cells": [
    {
      "cell_type": "markdown",
      "metadata": {
        "id": "view-in-github",
        "colab_type": "text"
      },
      "source": [
        "<a href=\"https://colab.research.google.com/github/Engbasemhamada/Hotel-Booking-EDA/blob/main/task2_of_hotel.ipynb\" target=\"_parent\"><img src=\"https://colab.research.google.com/assets/colab-badge.svg\" alt=\"Open In Colab\"/></a>"
      ]
    },
    {
      "cell_type": "code",
      "source": [
        "# 1. Import Libraries\n",
        "import pandas as pd\n",
        "import numpy as np\n",
        "import matplotlib.pyplot as plt\n",
        "import seaborn as sns\n",
        "\n",
        "from sklearn.model_selection import train_test_split\n",
        "from sklearn.preprocessing import LabelEncoder, StandardScaler\n",
        "from sklearn.feature_selection import SelectKBest, chi2\n",
        "from sklearn.decomposition import PCA\n",
        "from sklearn.linear_model import LogisticRegression\n",
        "\n",
        "from sklearn.ensemble import RandomForestClassifier\n",
        "from sklearn.metrics import accuracy_score, classification_report, confusion_matrix\n",
        "\n",
        "# 2. Load Dataset\n",
        "data = pd.read_csv(\"first inten project.csv\")  # غيّر الاسم حسب الملف بتاعك\n",
        "data"
      ],
      "metadata": {
        "id": "yDecX_KGYxjL"
      },
      "execution_count": null,
      "outputs": []
    },
    {
      "cell_type": "code",
      "source": [
        "# 3. Data Preprocessing\n",
        "print(\" Data Info:\")\n",
        "print(data.info())\n",
        "\n",
        "# Missing values\n",
        "print(\"\\n Missing Values:\")\n",
        "print(data.isnull().sum())\n",
        "\n",
        "# Strip spaces in column names\n",
        "data.columns = data.columns.str.strip()\n",
        "\n",
        "# Fill missing numeric values with median\n",
        "data = data.fillna(data.median(numeric_only=True))\n"
      ],
      "metadata": {
        "id": "EpNpKk0jf3jM"
      },
      "execution_count": null,
      "outputs": []
    },
    {
      "cell_type": "code",
      "source": [
        "# 4. Handle Outliers (IQR Method)\n",
        "def remove_outliers_iqr(df, col):\n",
        "    Q1 = df[col].quantile(0.25)\n",
        "    Q3 = df[col].quantile(0.75)\n",
        "    IQR = Q3 - Q1\n",
        "    lower = Q1 - 1.5 * IQR\n",
        "    upper = Q3 + 1.5 * IQR\n",
        "    df = df[(df[col] >= lower) & (df[col] <= upper)]\n",
        "    return df\n",
        "\n",
        "num_cols = data.select_dtypes(include=np.number).columns\n",
        "for col in num_cols:\n",
        "    data = remove_outliers_iqr(data, col)\n",
        "data"
      ],
      "metadata": {
        "id": "COegzeOVr4p9"
      },
      "execution_count": null,
      "outputs": []
    },
    {
      "cell_type": "code",
      "source": [
        "X = data.drop(\"booking status\", axis=1)\n",
        "y = data[\"booking status\"]\n",
        "\n",
        "# لو الهدف نصي → نحوله لأرقام\n",
        "if y.dtype == \"object\":\n",
        "    le = LabelEncoder()\n",
        "    y = le.fit_transform(y)\n",
        "\n",
        "# اختياري: اختيار أفضل الميزات (هنا 5 مبدئيًا)\n",
        "if len(num_cols) > 2:  # نتأكد فيه أعمدة كفاية\n",
        "    selector = SelectKBest(chi2, k=min(5, len(num_cols)))\n",
        "    X_selected = selector.fit_transform(X[num_cols], y)\n",
        "else:\n",
        "    X_selected = X[num_cols]\n",
        "\n",
        "# PCA لتقليل الأبعاد (اختياري)\n",
        "if X_selected.shape[1] > 2:\n",
        "    pca = PCA(n_components=2)\n",
        "    X_reduced = pca.fit_transform(X_selected)\n",
        "else:\n",
        "    X_reduced = X_selected\n"
      ],
      "metadata": {
        "id": "mmXSjxLPtFnk"
      },
      "execution_count": null,
      "outputs": []
    },
    {
      "cell_type": "code",
      "source": [
        "# 6. Transform Categorical Data\n",
        "# ==============================\n",
        "cat_cols = X.select_dtypes(include=\"object\").columns\n",
        "le = LabelEncoder()\n",
        "for col in cat_cols:\n",
        "    X[col] = le.fit_transform(X[col])\n"
      ],
      "metadata": {
        "id": "n8MJc5bQv9sR"
      },
      "execution_count": null,
      "outputs": []
    },
    {
      "cell_type": "code",
      "source": [
        "# 7. Scaling\n",
        "# ==============================\n",
        "scaler = StandardScaler()\n",
        "X_scaled = scaler.fit_transform(X)"
      ],
      "metadata": {
        "id": "1B5qXsnUx3pp"
      },
      "execution_count": null,
      "outputs": []
    },
    {
      "cell_type": "code",
      "source": [
        "# 8. Train-Test Split\n",
        "# ==============================\n",
        "X_train, X_test, y_train, y_test = train_test_split(X_scaled, y, test_size=0.2, random_state=42)"
      ],
      "metadata": {
        "id": "2fF6gpdhx8Z2"
      },
      "execution_count": null,
      "outputs": []
    },
    {
      "cell_type": "code",
      "source": [
        "# 📌 8. Modeling\n",
        "# ==============================\n",
        "# Logistic Regression\n",
        "log_reg = LogisticRegression(max_iter=1000)\n",
        "log_reg.fit(X_train, y_train)\n",
        "y_pred_lr = log_reg.predict(X_test)\n",
        "\n",
        "# Random Forest\n",
        "rf = RandomForestClassifier(n_estimators=100, random_state=42)\n",
        "rf.fit(X_train, y_train)\n",
        "y_pred_rf = rf.predict(X_test)\n"
      ],
      "metadata": {
        "id": "G3F1i4Khx_2N"
      },
      "execution_count": null,
      "outputs": []
    },
    {
      "cell_type": "code",
      "source": [
        "# 📌 9. Evaluation\n",
        "# ==============================\n",
        "print(\"\\n📈 Logistic Regression\")\n",
        "print(\"Accuracy:\", accuracy_score(y_test, y_pred_lr))\n",
        "print(confusion_matrix(y_test, y_pred_lr))\n",
        "print(classification_report(y_test, y_pred_lr))\n",
        "\n",
        "print(\"\\n🌳 Random Forest\")\n",
        "print(\"Accuracy:\", accuracy_score(y_test, y_pred_rf))\n",
        "print(confusion_matrix(y_test, y_pred_rf))\n",
        "print(classification_report(y_test, y_pred_rf))"
      ],
      "metadata": {
        "id": "6nJDluPsyLEv"
      },
      "execution_count": null,
      "outputs": []
    }
  ]
}